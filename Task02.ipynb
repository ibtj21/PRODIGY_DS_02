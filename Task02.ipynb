{
 "cells": [
  {
   "cell_type": "markdown",
   "metadata": {},
   "source": [
    "## 1,Loading and Inspecting the Data"
   ]
  },
  {
   "cell_type": "code",
   "execution_count": 67,
   "metadata": {},
   "outputs": [
    {
     "name": "stdout",
     "output_type": "stream",
     "text": [
      "  Country name            Regional indicator  Ladder score  upperwhisker  \\\n",
      "0      Finland                Western Europe         7.741         7.815   \n",
      "1      Denmark                Western Europe         7.583         7.665   \n",
      "2      Iceland                Western Europe         7.525         7.618   \n",
      "3       Sweden                Western Europe         7.344         7.422   \n",
      "4       Israel  Middle East and North Africa         7.341         7.405   \n",
      "\n",
      "   lowerwhisker  Log GDP per capita  Social support  Healthy life expectancy  \\\n",
      "0         7.667               1.844           1.572                    0.695   \n",
      "1         7.500               1.908           1.520                    0.699   \n",
      "2         7.433               1.881           1.617                    0.718   \n",
      "3         7.267               1.878           1.501                    0.724   \n",
      "4         7.277               1.803           1.513                    0.740   \n",
      "\n",
      "   Freedom to make life choices  Generosity  Perceptions of corruption  \\\n",
      "0                         0.859       0.142                      0.546   \n",
      "1                         0.823       0.204                      0.548   \n",
      "2                         0.819       0.258                      0.182   \n",
      "3                         0.838       0.221                      0.524   \n",
      "4                         0.641       0.153                      0.193   \n",
      "\n",
      "   Dystopia + residual  \n",
      "0                2.082  \n",
      "1                1.881  \n",
      "2                2.050  \n",
      "3                1.658  \n",
      "4                2.298  \n"
     ]
    }
   ],
   "source": [
    "#type:ignore\n",
    "import pandas as pd  # Importing pandas for data manipulation\n",
    "\n",
    "# Load the dataset into a DataFrame\n",
    "df_happiness = pd.read_csv(\"World-happiness-report-2024.csv\")\n",
    "\n",
    "# displaying the first 5 observations\n",
    "print(df_happiness.head())\n",
    "# Get information about the DataFrame\n"
   ]
  },
  {
   "cell_type": "code",
   "execution_count": 68,
   "metadata": {},
   "outputs": [
    {
     "name": "stdout",
     "output_type": "stream",
     "text": [
      "<class 'pandas.core.frame.DataFrame'>\n",
      "RangeIndex: 143 entries, 0 to 142\n",
      "Data columns (total 12 columns):\n",
      " #   Column                        Non-Null Count  Dtype  \n",
      "---  ------                        --------------  -----  \n",
      " 0   Country name                  143 non-null    object \n",
      " 1   Regional indicator            143 non-null    object \n",
      " 2   Ladder score                  143 non-null    float64\n",
      " 3   upperwhisker                  143 non-null    float64\n",
      " 4   lowerwhisker                  143 non-null    float64\n",
      " 5   Log GDP per capita            140 non-null    float64\n",
      " 6   Social support                140 non-null    float64\n",
      " 7   Healthy life expectancy       140 non-null    float64\n",
      " 8   Freedom to make life choices  140 non-null    float64\n",
      " 9   Generosity                    140 non-null    float64\n",
      " 10  Perceptions of corruption     140 non-null    float64\n",
      " 11  Dystopia + residual           140 non-null    float64\n",
      "dtypes: float64(10), object(2)\n",
      "memory usage: 13.5+ KB\n",
      "None\n"
     ]
    }
   ],
   "source": [
    "print(df_happiness.info())  #printing concise summary of the dataset"
   ]
  },
  {
   "cell_type": "markdown",
   "metadata": {},
   "source": [
    "## 2 Cleaning the data"
   ]
  },
  {
   "cell_type": "markdown",
   "metadata": {},
   "source": [
    "### 2.1 Identifying and Handling Missing Values"
   ]
  },
  {
   "cell_type": "code",
   "execution_count": 69,
   "metadata": {},
   "outputs": [
    {
     "data": {
      "text/plain": [
       "Country name                    0\n",
       "Regional indicator              0\n",
       "Ladder score                    0\n",
       "upperwhisker                    0\n",
       "lowerwhisker                    0\n",
       "Log GDP per capita              3\n",
       "Social support                  3\n",
       "Healthy life expectancy         3\n",
       "Freedom to make life choices    3\n",
       "Generosity                      3\n",
       "Perceptions of corruption       3\n",
       "Dystopia + residual             3\n",
       "dtype: int64"
      ]
     },
     "execution_count": 69,
     "metadata": {},
     "output_type": "execute_result"
    }
   ],
   "source": [
    "# Count of missing values in each column\n",
    "df_happiness.isnull().sum()"
   ]
  },
  {
   "cell_type": "code",
   "execution_count": 70,
   "metadata": {},
   "outputs": [
    {
     "name": "stdout",
     "output_type": "stream",
     "text": [
      "           Country name                  Regional indicator  Ladder score  \\\n",
      "61              Bahrain        Middle East and North Africa         5.959   \n",
      "87           Tajikistan  Commonwealth of Independent States         5.281   \n",
      "102  State of Palestine        Middle East and North Africa         4.879   \n",
      "\n",
      "     upperwhisker  lowerwhisker  Log GDP per capita  Social support  \\\n",
      "61          6.153         5.766                 NaN             NaN   \n",
      "87          5.361         5.201                 NaN             NaN   \n",
      "102         5.006         4.753                 NaN             NaN   \n",
      "\n",
      "     Healthy life expectancy  Freedom to make life choices  Generosity  \\\n",
      "61                       NaN                           NaN         NaN   \n",
      "87                       NaN                           NaN         NaN   \n",
      "102                      NaN                           NaN         NaN   \n",
      "\n",
      "     Perceptions of corruption  Dystopia + residual  \n",
      "61                         NaN                  NaN  \n",
      "87                         NaN                  NaN  \n",
      "102                        NaN                  NaN  \n"
     ]
    }
   ],
   "source": [
    "# Display rows that contain any null values\n",
    "rows_with_null = df_happiness[df_happiness.isnull().any(axis=1)]\n",
    "print(rows_with_null)   "
   ]
  },
  {
   "cell_type": "markdown",
   "metadata": {},
   "source": [
    "### Dropping Certain Rows\n",
    "\n",
    "In the World Happiness Report 2024 dataset, three rows (indices 61, 87, and 102) were identified as having a high percentage of missing values,\n",
    "with each row missing data in 7 out of 12 columns. After careful consideration, these rows were dropped for the following reasons:\n",
    "\n",
    "   - High Percentage of Missing Values in the Rows\n",
    "\n",
    "   - Large Enough Dataset for Analysis Without These Rows\n",
    "\n",
    "   - Consistency in Data Analysis"
   ]
  },
  {
   "cell_type": "code",
   "execution_count": 71,
   "metadata": {},
   "outputs": [],
   "source": [
    "# Drop rows by index\n",
    "df_happiness_cleaned = df_happiness.drop([61, 87, 102])"
   ]
  },
  {
   "cell_type": "markdown",
   "metadata": {},
   "source": [
    "### 2.2 Identifying and Handling Duplicates"
   ]
  },
  {
   "cell_type": "markdown",
   "metadata": {},
   "source": [
    "- no duplicate rows in the df_happiness dataframe."
   ]
  },
  {
   "cell_type": "code",
   "execution_count": 72,
   "metadata": {},
   "outputs": [
    {
     "data": {
      "text/plain": [
       "0"
      ]
     },
     "execution_count": 72,
     "metadata": {},
     "output_type": "execute_result"
    }
   ],
   "source": [
    "# Check for duplicate rows\n",
    "df_happiness.duplicated().sum()"
   ]
  },
  {
   "cell_type": "markdown",
   "metadata": {},
   "source": [
    "### 2.3 Checking and Handling Data Type Inconsistencies"
   ]
  },
  {
   "cell_type": "code",
   "execution_count": 73,
   "metadata": {},
   "outputs": [
    {
     "name": "stdout",
     "output_type": "stream",
     "text": [
      "Country name                     object\n",
      "Regional indicator               object\n",
      "Ladder score                    float64\n",
      "upperwhisker                    float64\n",
      "lowerwhisker                    float64\n",
      "Log GDP per capita              float64\n",
      "Social support                  float64\n",
      "Healthy life expectancy         float64\n",
      "Freedom to make life choices    float64\n",
      "Generosity                      float64\n",
      "Perceptions of corruption       float64\n",
      "Dystopia + residual             float64\n",
      "dtype: object\n"
     ]
    }
   ],
   "source": [
    "# Check data types of each column\n",
    "data_types = df_happiness_cleaned.dtypes\n",
    "print(data_types)"
   ]
  },
  {
   "cell_type": "code",
   "execution_count": 74,
   "metadata": {},
   "outputs": [
    {
     "name": "stdout",
     "output_type": "stream",
     "text": [
      "Non-numeric entries in numeric columns:\n",
      "Series([], dtype: int64)\n"
     ]
    }
   ],
   "source": [
    "# Check for non-numeric entries in numeric columns\n",
    "numeric_cols = df_happiness_cleaned.select_dtypes(include=['int64', 'float64']).columns\n",
    "non_numeric_entries = df_happiness_cleaned[numeric_cols].apply(pd.to_numeric, errors='coerce').isnull().sum()\n",
    "\n",
    "print(\"Non-numeric entries in numeric columns:\")\n",
    "print(non_numeric_entries[non_numeric_entries > 0])"
   ]
  },
  {
   "cell_type": "code",
   "execution_count": 75,
   "metadata": {},
   "outputs": [
    {
     "name": "stdout",
     "output_type": "stream",
     "text": [
      "No numeric values found in non-numeric columns.\n"
     ]
    }
   ],
   "source": [
    "# Select non-numeric columns\n",
    "non_numeric_cols = df_happiness_cleaned.select_dtypes(include=['object']).columns\n",
    "\n",
    "# Check for numeric entries in non-numeric columns\n",
    "numeric_in_non_numeric = {}\n",
    "for col in non_numeric_cols:\n",
    "    # Try to convert entries to numeric, capturing any that convert successfully\n",
    "    numeric_values = pd.to_numeric(df_happiness_cleaned[col], errors='coerce')\n",
    "    # Count how many entries were converted to numeric (not NaN)\n",
    "    count_numeric = numeric_values.notna().sum()\n",
    "    if count_numeric > 0:\n",
    "        numeric_in_non_numeric[col] = count_numeric\n",
    "\n",
    "# Output any non-numeric columns that contain numeric values\n",
    "if numeric_in_non_numeric:\n",
    "    print(\"Non-numeric columns containing numeric values:\")\n",
    "    for col, count in numeric_in_non_numeric.items():\n",
    "        print(f\"Column '{col}' contains {count} numeric values.\")\n",
    "else:\n",
    "    print(\"No numeric values found in non-numeric columns.\")"
   ]
  },
  {
   "cell_type": "markdown",
   "metadata": {},
   "source": [
    "### 2.4 Final Check"
   ]
  },
  {
   "cell_type": "markdown",
   "metadata": {},
   "source": [
    "The final DataFrame, df_happiness_cleaned, has been meticulously cleaned and now features consistent data types across all columns, along with no null values and no duplicate rows. This ensures a solid foundation for further analysis."
   ]
  },
  {
   "cell_type": "code",
   "execution_count": 76,
   "metadata": {},
   "outputs": [
    {
     "name": "stdout",
     "output_type": "stream",
     "text": [
      "<class 'pandas.core.frame.DataFrame'>\n",
      "Index: 140 entries, 0 to 142\n",
      "Data columns (total 12 columns):\n",
      " #   Column                        Non-Null Count  Dtype  \n",
      "---  ------                        --------------  -----  \n",
      " 0   Country name                  140 non-null    object \n",
      " 1   Regional indicator            140 non-null    object \n",
      " 2   Ladder score                  140 non-null    float64\n",
      " 3   upperwhisker                  140 non-null    float64\n",
      " 4   lowerwhisker                  140 non-null    float64\n",
      " 5   Log GDP per capita            140 non-null    float64\n",
      " 6   Social support                140 non-null    float64\n",
      " 7   Healthy life expectancy       140 non-null    float64\n",
      " 8   Freedom to make life choices  140 non-null    float64\n",
      " 9   Generosity                    140 non-null    float64\n",
      " 10  Perceptions of corruption     140 non-null    float64\n",
      " 11  Dystopia + residual           140 non-null    float64\n",
      "dtypes: float64(10), object(2)\n",
      "memory usage: 14.2+ KB\n",
      "None\n"
     ]
    }
   ],
   "source": [
    "# Concise information of the data after dropping rows\n",
    "print(df_happiness_cleaned.info())\n"
   ]
  },
  {
   "cell_type": "markdown",
   "metadata": {},
   "source": [
    "## 3. Exploratory Data Analysis"
   ]
  },
  {
   "cell_type": "code",
   "execution_count": null,
   "metadata": {},
   "outputs": [],
   "source": []
  }
 ],
 "metadata": {
  "kernelspec": {
   "display_name": "Python 3",
   "language": "python",
   "name": "python3"
  },
  "language_info": {
   "codemirror_mode": {
    "name": "ipython",
    "version": 3
   },
   "file_extension": ".py",
   "mimetype": "text/x-python",
   "name": "python",
   "nbconvert_exporter": "python",
   "pygments_lexer": "ipython3",
   "version": "3.12.7"
  }
 },
 "nbformat": 4,
 "nbformat_minor": 2
}
