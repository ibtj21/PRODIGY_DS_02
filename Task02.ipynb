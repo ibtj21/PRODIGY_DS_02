{
 "cells": [
  {
   "cell_type": "markdown",
   "metadata": {},
   "source": [
    "# WORLD HAPPINESS DATA - 2024\n",
    "This project analysis the level of happiness for different countries in the world."
   ]
  },
  {
   "cell_type": "code",
   "execution_count": 2,
   "metadata": {},
   "outputs": [
    {
     "name": "stdout",
     "output_type": "stream",
     "text": [
      "  Country name            Regional indicator  Ladder score  upperwhisker  \\\n",
      "0      Finland                Western Europe         7.741         7.815   \n",
      "1      Denmark                Western Europe         7.583         7.665   \n",
      "2      Iceland                Western Europe         7.525         7.618   \n",
      "3       Sweden                Western Europe         7.344         7.422   \n",
      "4       Israel  Middle East and North Africa         7.341         7.405   \n",
      "\n",
      "   lowerwhisker  Log GDP per capita  Social support  Healthy life expectancy  \\\n",
      "0         7.667               1.844           1.572                    0.695   \n",
      "1         7.500               1.908           1.520                    0.699   \n",
      "2         7.433               1.881           1.617                    0.718   \n",
      "3         7.267               1.878           1.501                    0.724   \n",
      "4         7.277               1.803           1.513                    0.740   \n",
      "\n",
      "   Freedom to make life choices  Generosity  Perceptions of corruption  \\\n",
      "0                         0.859       0.142                      0.546   \n",
      "1                         0.823       0.204                      0.548   \n",
      "2                         0.819       0.258                      0.182   \n",
      "3                         0.838       0.221                      0.524   \n",
      "4                         0.641       0.153                      0.193   \n",
      "\n",
      "   Dystopia + residual  \n",
      "0                2.082  \n",
      "1                1.881  \n",
      "2                2.050  \n",
      "3                1.658  \n",
      "4                2.298  \n",
      "<class 'pandas.core.frame.DataFrame'>\n",
      "RangeIndex: 143 entries, 0 to 142\n",
      "Data columns (total 12 columns):\n",
      " #   Column                        Non-Null Count  Dtype  \n",
      "---  ------                        --------------  -----  \n",
      " 0   Country name                  143 non-null    object \n",
      " 1   Regional indicator            143 non-null    object \n",
      " 2   Ladder score                  143 non-null    float64\n",
      " 3   upperwhisker                  143 non-null    float64\n",
      " 4   lowerwhisker                  143 non-null    float64\n",
      " 5   Log GDP per capita            140 non-null    float64\n",
      " 6   Social support                140 non-null    float64\n",
      " 7   Healthy life expectancy       140 non-null    float64\n",
      " 8   Freedom to make life choices  140 non-null    float64\n",
      " 9   Generosity                    140 non-null    float64\n",
      " 10  Perceptions of corruption     140 non-null    float64\n",
      " 11  Dystopia + residual           140 non-null    float64\n",
      "dtypes: float64(10), object(2)\n",
      "memory usage: 13.5+ KB\n"
     ]
    }
   ],
   "source": [
    "import pandas as pd  # Importing pandas for data manipulation\n",
    "\n",
    "# Load the dataset into a DataFrame\n",
    "df_happiness = pd.read_csv(\"World-happiness-report-2024.csv\")\n",
    "\n",
    "# Display the first 5 rows of the dataset to inspect the data\n",
    "df_happiness.tail()\n",
    "\n",
    "# displaying the first 5 observations\n",
    "print(df_happiness.head())\n",
    "\n",
    "\n",
    "# info for the data\n",
    "df_happiness.info()"
   ]
  }
 ],
 "metadata": {
  "kernelspec": {
   "display_name": "Python 3",
   "language": "python",
   "name": "python3"
  },
  "language_info": {
   "codemirror_mode": {
    "name": "ipython",
    "version": 3
   },
   "file_extension": ".py",
   "mimetype": "text/x-python",
   "name": "python",
   "nbconvert_exporter": "python",
   "pygments_lexer": "ipython3",
   "version": "3.12.7"
  }
 },
 "nbformat": 4,
 "nbformat_minor": 2
}
